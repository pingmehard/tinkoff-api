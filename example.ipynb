{
 "cells": [
  {
   "cell_type": "code",
   "execution_count": 1,
   "id": "55b4e06d",
   "metadata": {},
   "outputs": [
    {
     "name": "stdout",
     "output_type": "stream",
     "text": [
      "Intel MKL WARNING: Support of Intel(R) Streaming SIMD Extensions 4.2 (Intel(R) SSE4.2) enabled only processors has been deprecated. Intel oneAPI Math Kernel Library 2025.0 will require Intel(R) Advanced Vector Extensions (Intel(R) AVX) instructions.\n",
      "Intel MKL WARNING: Support of Intel(R) Streaming SIMD Extensions 4.2 (Intel(R) SSE4.2) enabled only processors has been deprecated. Intel oneAPI Math Kernel Library 2025.0 will require Intel(R) Advanced Vector Extensions (Intel(R) AVX) instructions.\n"
     ]
    }
   ],
   "source": [
    "import main\n",
    "import datetime\n",
    "import pandas as pd"
   ]
  },
  {
   "cell_type": "code",
   "execution_count": 2,
   "id": "d303da27",
   "metadata": {},
   "outputs": [],
   "source": [
    "from utils import return_currency, return_now_datetime"
   ]
  },
  {
   "cell_type": "code",
   "execution_count": 3,
   "id": "ec8d8dd7",
   "metadata": {},
   "outputs": [
    {
     "data": {
      "text/plain": [
       "'2013-09-04T15:49:34.847050Z'"
      ]
     },
     "execution_count": 3,
     "metadata": {},
     "output_type": "execute_result"
    }
   ],
   "source": [
    "return_now_datetime(jump_back_to=13)"
   ]
  },
  {
   "cell_type": "code",
   "execution_count": 4,
   "id": "6cf7f00a",
   "metadata": {},
   "outputs": [],
   "source": [
    "us = main.UsersService()\n",
    "os = main.OperationsService()\n",
    "md = main.MarketDataService()"
   ]
  },
  {
   "cell_type": "code",
   "execution_count": 5,
   "id": "3bdd35e4",
   "metadata": {},
   "outputs": [
    {
     "name": "stdout",
     "output_type": "stream",
     "text": [
      "candels for BBG00NZHT902 from 2022-09-04T15:49:34.860920Z to 2023-09-03T15:49:34.860985Z\n"
     ]
    }
   ],
   "source": [
    "req = md.get_candles(\n",
    "    instrument_id = \"BBG00NZHT902\",\n",
    "    interval=5\n",
    ")"
   ]
  },
  {
   "cell_type": "code",
   "execution_count": 5,
   "id": "e198f921",
   "metadata": {
    "scrolled": true
   },
   "outputs": [
    {
     "data": {
      "text/plain": [
       "{'2088006610': 'Среднесрочный', '2108751153': 'ИИС', '2111914095': 'Дивиденды'}"
      ]
     },
     "execution_count": 5,
     "metadata": {},
     "output_type": "execute_result"
    }
   ],
   "source": [
    "us.get_accounts_main_values()"
   ]
  },
  {
   "cell_type": "code",
   "execution_count": 6,
   "id": "1357a4fe",
   "metadata": {},
   "outputs": [
    {
     "ename": "KeyError",
     "evalue": "'currentNkd'",
     "output_type": "error",
     "traceback": [
      "\u001b[0;31m---------------------------------------------------------------------------\u001b[0m",
      "\u001b[0;31mKeyError\u001b[0m                                  Traceback (most recent call last)",
      "Cell \u001b[0;32mIn[6], line 1\u001b[0m\n\u001b[0;32m----> 1\u001b[0m pd\u001b[39m.\u001b[39mDataFrame(os\u001b[39m.\u001b[39mget_portfolio_positions(\u001b[39m2088006610\u001b[39m))\n",
      "File \u001b[0;32m~/Documents/tinkoff-api/main.py:252\u001b[0m, in \u001b[0;36mOperationsService.get_portfolio_positions\u001b[0;34m(self, accountId)\u001b[0m\n\u001b[1;32m    249\u001b[0m     currentPrice \u001b[39m=\u001b[39m return_currency(inst[\u001b[39m'\u001b[39m\u001b[39mcurrentPrice\u001b[39m\u001b[39m'\u001b[39m][\u001b[39m'\u001b[39m\u001b[39mcurrency\u001b[39m\u001b[39m'\u001b[39m]\u001b[39m.\u001b[39mupper()) \u001b[39m*\u001b[39m (\u001b[39mfloat\u001b[39m(inst[\u001b[39m'\u001b[39m\u001b[39mcurrentPrice\u001b[39m\u001b[39m'\u001b[39m][\u001b[39m'\u001b[39m\u001b[39munits\u001b[39m\u001b[39m'\u001b[39m]) \u001b[39m+\u001b[39m \u001b[39mfloat\u001b[39m(inst[\u001b[39m'\u001b[39m\u001b[39mcurrentPrice\u001b[39m\u001b[39m'\u001b[39m][\u001b[39m'\u001b[39m\u001b[39mnano\u001b[39m\u001b[39m'\u001b[39m]) \u001b[39m/\u001b[39m nano_delimiter)\n\u001b[1;32m    250\u001b[0m     positions[i][\u001b[39m'\u001b[39m\u001b[39mcurrentPrice\u001b[39m\u001b[39m'\u001b[39m] \u001b[39m=\u001b[39m currentPrice\n\u001b[0;32m--> 252\u001b[0m     \u001b[39mdel\u001b[39;00m positions[i][\u001b[39m'\u001b[39m\u001b[39mcurrentNkd\u001b[39m\u001b[39m'\u001b[39m], positions[i][\u001b[39m'\u001b[39m\u001b[39maveragePositionPriceFifo\u001b[39m\u001b[39m'\u001b[39m], positions[i][\u001b[39m'\u001b[39m\u001b[39mquantityLots\u001b[39m\u001b[39m'\u001b[39m]\n\u001b[1;32m    254\u001b[0m     i \u001b[39m+\u001b[39m\u001b[39m=\u001b[39m \u001b[39m1\u001b[39m\n\u001b[1;32m    256\u001b[0m \u001b[39mreturn\u001b[39;00m positions\n",
      "\u001b[0;31mKeyError\u001b[0m: 'currentNkd'"
     ]
    }
   ],
   "source": [
    "pd.DataFrame(os.get_portfolio_positions(2088006610))"
   ]
  },
  {
   "cell_type": "code",
   "execution_count": 7,
   "id": "79972376",
   "metadata": {},
   "outputs": [],
   "source": [
    "ins = main.InstrumentsService()"
   ]
  },
  {
   "cell_type": "code",
   "execution_count": 8,
   "id": "410efd4b",
   "metadata": {},
   "outputs": [
    {
     "data": {
      "text/html": [
       "<div>\n",
       "<style scoped>\n",
       "    .dataframe tbody tr th:only-of-type {\n",
       "        vertical-align: middle;\n",
       "    }\n",
       "\n",
       "    .dataframe tbody tr th {\n",
       "        vertical-align: top;\n",
       "    }\n",
       "\n",
       "    .dataframe thead th {\n",
       "        text-align: right;\n",
       "    }\n",
       "</style>\n",
       "<table border=\"1\" class=\"dataframe\">\n",
       "  <thead>\n",
       "    <tr style=\"text-align: right;\">\n",
       "      <th></th>\n",
       "      <th>dividendNet</th>\n",
       "      <th>paymentDate</th>\n",
       "      <th>declaredDate</th>\n",
       "      <th>lastBuyDate</th>\n",
       "      <th>dividendType</th>\n",
       "      <th>recordDate</th>\n",
       "      <th>regularity</th>\n",
       "      <th>closePrice</th>\n",
       "      <th>yieldValue</th>\n",
       "      <th>createdAt</th>\n",
       "    </tr>\n",
       "  </thead>\n",
       "  <tbody>\n",
       "    <tr>\n",
       "      <th>0</th>\n",
       "      <td>1.9218</td>\n",
       "      <td>2020-10-16</td>\n",
       "      <td>2020-08-04</td>\n",
       "      <td>2020-09-30</td>\n",
       "      <td></td>\n",
       "      <td>2020-10-02</td>\n",
       "      <td>Quarter</td>\n",
       "      <td>4460.4978</td>\n",
       "      <td>0.04</td>\n",
       "      <td>2021-06-16T02:01:47.973139Z</td>\n",
       "    </tr>\n",
       "    <tr>\n",
       "      <th>1</th>\n",
       "      <td>1.9218</td>\n",
       "      <td>2021-01-15</td>\n",
       "      <td>2020-11-17</td>\n",
       "      <td>2020-12-30</td>\n",
       "      <td></td>\n",
       "      <td>2021-01-01</td>\n",
       "      <td>Quarter</td>\n",
       "      <td>5596.2816</td>\n",
       "      <td>0.03</td>\n",
       "      <td>2021-06-16T02:01:47.973139Z</td>\n",
       "    </tr>\n",
       "    <tr>\n",
       "      <th>2</th>\n",
       "      <td>1.9218</td>\n",
       "      <td>2021-04-16</td>\n",
       "      <td>2021-02-23</td>\n",
       "      <td>2021-03-31</td>\n",
       "      <td></td>\n",
       "      <td>2021-04-02</td>\n",
       "      <td>Quarter</td>\n",
       "      <td>6485.1141</td>\n",
       "      <td>0.03</td>\n",
       "      <td>2021-06-16T02:01:47.973139Z</td>\n",
       "    </tr>\n",
       "    <tr>\n",
       "      <th>3</th>\n",
       "      <td>1.9218</td>\n",
       "      <td>2021-07-16</td>\n",
       "      <td>2021-05-05</td>\n",
       "      <td>2021-06-30</td>\n",
       "      <td></td>\n",
       "      <td>2021-07-02</td>\n",
       "      <td>Quarter</td>\n",
       "      <td>7282.6611</td>\n",
       "      <td>0.03</td>\n",
       "      <td>2021-08-02T02:03:08.061061Z</td>\n",
       "    </tr>\n",
       "    <tr>\n",
       "      <th>4</th>\n",
       "      <td>1.9218</td>\n",
       "      <td>2021-10-15</td>\n",
       "      <td>2021-08-09</td>\n",
       "      <td>2021-09-29</td>\n",
       "      <td></td>\n",
       "      <td>2021-10-01</td>\n",
       "      <td>Quarter</td>\n",
       "      <td>9535.9716</td>\n",
       "      <td>0.02</td>\n",
       "      <td>2021-11-01T02:02:53.950761Z</td>\n",
       "    </tr>\n",
       "    <tr>\n",
       "      <th>5</th>\n",
       "      <td>1.9218</td>\n",
       "      <td>2022-01-21</td>\n",
       "      <td>2021-11-10</td>\n",
       "      <td>2022-01-05</td>\n",
       "      <td></td>\n",
       "      <td>2022-01-07</td>\n",
       "      <td>Quarter</td>\n",
       "      <td>13120.1286</td>\n",
       "      <td>0.01</td>\n",
       "      <td>2022-02-07T02:07:01.416001Z</td>\n",
       "    </tr>\n",
       "    <tr>\n",
       "      <th>6</th>\n",
       "      <td>1.9218</td>\n",
       "      <td>2022-04-14</td>\n",
       "      <td>2022-02-16</td>\n",
       "      <td>2022-03-30</td>\n",
       "      <td></td>\n",
       "      <td>2022-04-01</td>\n",
       "      <td>Quarter</td>\n",
       "      <td>11371.2906</td>\n",
       "      <td>0.02</td>\n",
       "      <td>2022-05-02T02:01:41.783010Z</td>\n",
       "    </tr>\n",
       "    <tr>\n",
       "      <th>7</th>\n",
       "      <td>1.9218</td>\n",
       "      <td>2022-07-15</td>\n",
       "      <td>2022-05-06</td>\n",
       "      <td>2022-06-29</td>\n",
       "      <td></td>\n",
       "      <td>2022-07-01</td>\n",
       "      <td></td>\n",
       "      <td>10049.0922</td>\n",
       "      <td>0.02</td>\n",
       "      <td>2022-09-27T09:48:14.446372Z</td>\n",
       "    </tr>\n",
       "    <tr>\n",
       "      <th>8</th>\n",
       "      <td>1.9218</td>\n",
       "      <td>2022-10-21</td>\n",
       "      <td>2022-08-03</td>\n",
       "      <td>2022-10-05</td>\n",
       "      <td></td>\n",
       "      <td>2022-10-07</td>\n",
       "      <td></td>\n",
       "      <td>11903.6292</td>\n",
       "      <td>0.02</td>\n",
       "      <td>2022-11-07T02:09:13.073945Z</td>\n",
       "    </tr>\n",
       "    <tr>\n",
       "      <th>9</th>\n",
       "      <td>1.9218</td>\n",
       "      <td>2023-01-20</td>\n",
       "      <td>2022-11-09</td>\n",
       "      <td>2023-01-04</td>\n",
       "      <td></td>\n",
       "      <td>2023-01-06</td>\n",
       "      <td></td>\n",
       "      <td>13017.3123</td>\n",
       "      <td>0.01</td>\n",
       "      <td>2023-02-06T06:52:53.735132Z</td>\n",
       "    </tr>\n",
       "    <tr>\n",
       "      <th>10</th>\n",
       "      <td>1.9218</td>\n",
       "      <td>2023-04-21</td>\n",
       "      <td>2023-02-17</td>\n",
       "      <td>2023-04-04</td>\n",
       "      <td></td>\n",
       "      <td>2023-04-06</td>\n",
       "      <td></td>\n",
       "      <td>16425.6246</td>\n",
       "      <td>0.01</td>\n",
       "      <td>2023-04-20T02:12:32.214393Z</td>\n",
       "    </tr>\n",
       "    <tr>\n",
       "      <th>11</th>\n",
       "      <td>1.9218</td>\n",
       "      <td>2023-07-21</td>\n",
       "      <td>2023-05-04</td>\n",
       "      <td>2023-07-05</td>\n",
       "      <td></td>\n",
       "      <td>2023-07-07</td>\n",
       "      <td>Quarter</td>\n",
       "      <td>17331.7533</td>\n",
       "      <td>0.01</td>\n",
       "      <td>2023-07-07T07:25:35.921490Z</td>\n",
       "    </tr>\n",
       "  </tbody>\n",
       "</table>\n",
       "</div>"
      ],
      "text/plain": [
       "    dividendNet paymentDate declaredDate lastBuyDate dividendType  recordDate  \\\n",
       "0        1.9218  2020-10-16   2020-08-04  2020-09-30               2020-10-02   \n",
       "1        1.9218  2021-01-15   2020-11-17  2020-12-30               2021-01-01   \n",
       "2        1.9218  2021-04-16   2021-02-23  2021-03-31               2021-04-02   \n",
       "3        1.9218  2021-07-16   2021-05-05  2021-06-30               2021-07-02   \n",
       "4        1.9218  2021-10-15   2021-08-09  2021-09-29               2021-10-01   \n",
       "5        1.9218  2022-01-21   2021-11-10  2022-01-05               2022-01-07   \n",
       "6        1.9218  2022-04-14   2022-02-16  2022-03-30               2022-04-01   \n",
       "7        1.9218  2022-07-15   2022-05-06  2022-06-29               2022-07-01   \n",
       "8        1.9218  2022-10-21   2022-08-03  2022-10-05               2022-10-07   \n",
       "9        1.9218  2023-01-20   2022-11-09  2023-01-04               2023-01-06   \n",
       "10       1.9218  2023-04-21   2023-02-17  2023-04-04               2023-04-06   \n",
       "11       1.9218  2023-07-21   2023-05-04  2023-07-05               2023-07-07   \n",
       "\n",
       "   regularity  closePrice  yieldValue                    createdAt  \n",
       "0     Quarter   4460.4978        0.04  2021-06-16T02:01:47.973139Z  \n",
       "1     Quarter   5596.2816        0.03  2021-06-16T02:01:47.973139Z  \n",
       "2     Quarter   6485.1141        0.03  2021-06-16T02:01:47.973139Z  \n",
       "3     Quarter   7282.6611        0.03  2021-08-02T02:03:08.061061Z  \n",
       "4     Quarter   9535.9716        0.02  2021-11-01T02:02:53.950761Z  \n",
       "5     Quarter  13120.1286        0.01  2022-02-07T02:07:01.416001Z  \n",
       "6     Quarter  11371.2906        0.02  2022-05-02T02:01:41.783010Z  \n",
       "7              10049.0922        0.02  2022-09-27T09:48:14.446372Z  \n",
       "8              11903.6292        0.02  2022-11-07T02:09:13.073945Z  \n",
       "9              13017.3123        0.01  2023-02-06T06:52:53.735132Z  \n",
       "10             16425.6246        0.01  2023-04-20T02:12:32.214393Z  \n",
       "11    Quarter  17331.7533        0.01  2023-07-07T07:25:35.921490Z  "
      ]
     },
     "execution_count": 8,
     "metadata": {},
     "output_type": "execute_result"
    }
   ],
   "source": [
    "pd.DataFrame(ins.get_dividends(figi = \"BBG000CQCCK6\"))"
   ]
  },
  {
   "cell_type": "code",
   "execution_count": 14,
   "id": "7a61231f",
   "metadata": {
    "scrolled": true
   },
   "outputs": [
    {
     "data": {
      "text/html": [
       "<div>\n",
       "<style scoped>\n",
       "    .dataframe tbody tr th:only-of-type {\n",
       "        vertical-align: middle;\n",
       "    }\n",
       "\n",
       "    .dataframe tbody tr th {\n",
       "        vertical-align: top;\n",
       "    }\n",
       "\n",
       "    .dataframe thead th {\n",
       "        text-align: right;\n",
       "    }\n",
       "</style>\n",
       "<table border=\"1\" class=\"dataframe\">\n",
       "  <thead>\n",
       "    <tr style=\"text-align: right;\">\n",
       "      <th></th>\n",
       "      <th>id</th>\n",
       "      <th>parentOperationId</th>\n",
       "      <th>currency</th>\n",
       "      <th>payment</th>\n",
       "      <th>price</th>\n",
       "      <th>state</th>\n",
       "      <th>quantity</th>\n",
       "      <th>quantityRest</th>\n",
       "      <th>figi</th>\n",
       "      <th>instrumentType</th>\n",
       "      <th>date</th>\n",
       "      <th>type</th>\n",
       "      <th>operationType</th>\n",
       "      <th>trades</th>\n",
       "    </tr>\n",
       "  </thead>\n",
       "  <tbody>\n",
       "    <tr>\n",
       "      <th>0</th>\n",
       "      <td>2274546140</td>\n",
       "      <td></td>\n",
       "      <td>RUB</td>\n",
       "      <td>1.5813</td>\n",
       "      <td>0.0000</td>\n",
       "      <td>OPERATION_STATE_EXECUTED</td>\n",
       "      <td>0</td>\n",
       "      <td>0</td>\n",
       "      <td>BBG000CQCCK6</td>\n",
       "      <td>share</td>\n",
       "      <td>2022-01-31T18:19:10Z</td>\n",
       "      <td>Выплата дивидендов</td>\n",
       "      <td>OPERATION_TYPE_DIVIDEND</td>\n",
       "      <td>[]</td>\n",
       "    </tr>\n",
       "    <tr>\n",
       "      <th>1</th>\n",
       "      <td>326429040900</td>\n",
       "      <td></td>\n",
       "      <td>RUB</td>\n",
       "      <td>-11141.8398</td>\n",
       "      <td>11141.8398</td>\n",
       "      <td>OPERATION_STATE_EXECUTED</td>\n",
       "      <td>1</td>\n",
       "      <td>0</td>\n",
       "      <td>BBG000CQCCK6</td>\n",
       "      <td>share</td>\n",
       "      <td>2021-11-05T17:55:52.247Z</td>\n",
       "      <td>Покупка ЦБ</td>\n",
       "      <td>OPERATION_TYPE_BUY</td>\n",
       "      <td>[{'tradeId': '6428384350', 'dateTime': '2021-1...</td>\n",
       "    </tr>\n",
       "    <tr>\n",
       "      <th>2</th>\n",
       "      <td>1853295880</td>\n",
       "      <td>326429040900</td>\n",
       "      <td>RUB</td>\n",
       "      <td>-4.7439</td>\n",
       "      <td>0.0000</td>\n",
       "      <td>OPERATION_STATE_EXECUTED</td>\n",
       "      <td>0</td>\n",
       "      <td>0</td>\n",
       "      <td>BBG000CQCCK6</td>\n",
       "      <td>share</td>\n",
       "      <td>2021-11-05T17:55:53.247Z</td>\n",
       "      <td>Удержание комиссии за операцию</td>\n",
       "      <td>OPERATION_TYPE_BROKER_FEE</td>\n",
       "      <td>[]</td>\n",
       "    </tr>\n",
       "  </tbody>\n",
       "</table>\n",
       "</div>"
      ],
      "text/plain": [
       "             id parentOperationId currency     payment       price  \\\n",
       "0    2274546140                        RUB      1.5813      0.0000   \n",
       "1  326429040900                        RUB -11141.8398  11141.8398   \n",
       "2    1853295880      326429040900      RUB     -4.7439      0.0000   \n",
       "\n",
       "                      state quantity quantityRest          figi  \\\n",
       "0  OPERATION_STATE_EXECUTED        0            0  BBG000CQCCK6   \n",
       "1  OPERATION_STATE_EXECUTED        1            0  BBG000CQCCK6   \n",
       "2  OPERATION_STATE_EXECUTED        0            0  BBG000CQCCK6   \n",
       "\n",
       "  instrumentType                      date                            type  \\\n",
       "0          share      2022-01-31T18:19:10Z              Выплата дивидендов   \n",
       "1          share  2021-11-05T17:55:52.247Z                      Покупка ЦБ   \n",
       "2          share  2021-11-05T17:55:53.247Z  Удержание комиссии за операцию   \n",
       "\n",
       "               operationType  \\\n",
       "0    OPERATION_TYPE_DIVIDEND   \n",
       "1         OPERATION_TYPE_BUY   \n",
       "2  OPERATION_TYPE_BROKER_FEE   \n",
       "\n",
       "                                              trades  \n",
       "0                                                 []  \n",
       "1  [{'tradeId': '6428384350', 'dateTime': '2021-1...  \n",
       "2                                                 []  "
      ]
     },
     "execution_count": 14,
     "metadata": {},
     "output_type": "execute_result"
    }
   ],
   "source": [
    "pd.DataFrame(os.get_operations(2088006610, figi = \"BBG000CQCCK6\"))"
   ]
  }
 ],
 "metadata": {
  "kernelspec": {
   "display_name": "Python 3 (ipykernel)",
   "language": "python",
   "name": "python3"
  },
  "language_info": {
   "codemirror_mode": {
    "name": "ipython",
    "version": 3
   },
   "file_extension": ".py",
   "mimetype": "text/x-python",
   "name": "python",
   "nbconvert_exporter": "python",
   "pygments_lexer": "ipython3",
   "version": "3.11.4"
  }
 },
 "nbformat": 4,
 "nbformat_minor": 5
}
